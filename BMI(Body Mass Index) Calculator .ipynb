{
 "cells": [
  {
   "cell_type": "markdown",
   "id": "d94da03d",
   "metadata": {},
   "source": [
    "# BMI CALCULATOR"
   ]
  },
  {
   "cell_type": "code",
   "execution_count": 2,
   "id": "0066870f",
   "metadata": {},
   "outputs": [],
   "source": [
    "#BMI=(weight*703)/(height*height)"
   ]
  },
  {
   "cell_type": "code",
   "execution_count": 3,
   "id": "cc8362c9",
   "metadata": {},
   "outputs": [],
   "source": [
    "  #  Under 18.5,underweight. minimal health risk\n",
    "  #  18.5-24.9,normal weight. minimal health risk\n",
    "   # 25-29.9,Overweight. increaded heath risk \n",
    "  #  30-34.9,Obese. high health risk \n",
    "   # 35-39.9,Severely Obese. very high health risk \n",
    "  #  40 upward,Morbidly Obese. Extremely high health risk  "
   ]
  },
  {
   "cell_type": "code",
   "execution_count": 2,
   "id": "62c449f7",
   "metadata": {},
   "outputs": [
    {
     "name": "stdout",
     "output_type": "stream",
     "text": [
      "Enter your name: Abdul\n",
      "Enter your weight: 123.5\n",
      "Enter your height: 71\n",
      "17.222872445943267\n",
      "Abdul, you are underweight with minimal health risk \n"
     ]
    }
   ],
   "source": [
    "name= input(\"Enter your name: \")\n",
    "\n",
    "weight= float(input(\"Enter your weight: \"))\n",
    "\n",
    "height= float(input(\"Enter your height: \"))\n",
    "\n",
    "BMI=(weight*703)/(height*height)\n",
    "\n",
    "#print(BMI)\n",
    "\n",
    "if BMI>0:\n",
    "    if(BMI<18.5):\n",
    "        print(name+\", you are underweight with minimal health risk \")\n",
    "    elif(BMI>=18.5):\n",
    "        print(name+\", you are of normal weigh with minial health risk \")\n",
    "    elif(BMI>=25):\n",
    "        print(name+\", you are over weight with increased health risk \")\n",
    "    elif(BMI>=30):\n",
    "        print(name+\", you are Obese with high health risk \")\n",
    "    elif(BMI>=35):\n",
    "        print(name+\", you are Severly Obese with very high health risk\")\n",
    "    elif(BMI>=40):\n",
    "        print(name+\", you are Mordibly Obese with extremely high health risk\")\n",
    "    else:\n",
    "        print(\"Invalid input\")\n"
   ]
  },
  {
   "cell_type": "code",
   "execution_count": null,
   "id": "b265b07a",
   "metadata": {},
   "outputs": [],
   "source": []
  },
  {
   "cell_type": "code",
   "execution_count": null,
   "id": "7a2ee472",
   "metadata": {},
   "outputs": [],
   "source": []
  }
 ],
 "metadata": {
  "kernelspec": {
   "display_name": "Python 3 (ipykernel)",
   "language": "python",
   "name": "python3"
  },
  "language_info": {
   "codemirror_mode": {
    "name": "ipython",
    "version": 3
   },
   "file_extension": ".py",
   "mimetype": "text/x-python",
   "name": "python",
   "nbconvert_exporter": "python",
   "pygments_lexer": "ipython3",
   "version": "3.11.5"
  }
 },
 "nbformat": 4,
 "nbformat_minor": 5
}
