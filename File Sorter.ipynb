{
 "cells": [
  {
   "cell_type": "markdown",
   "id": "50152f89",
   "metadata": {},
   "source": [
    "# FILE SORTER"
   ]
  },
  {
   "cell_type": "code",
   "execution_count": 2,
   "id": "0756854c",
   "metadata": {},
   "outputs": [],
   "source": [
    "import os, shutil"
   ]
  },
  {
   "cell_type": "code",
   "execution_count": 26,
   "id": "a4bb8b0a",
   "metadata": {},
   "outputs": [],
   "source": [
    "path=r\"C:/Users/DELL/OneDrive/Documents/File sorter project/\""
   ]
  },
  {
   "cell_type": "code",
   "execution_count": 27,
   "id": "a7bc9f36",
   "metadata": {},
   "outputs": [],
   "source": [
    "file_name=os.listdir(path)"
   ]
  },
  {
   "cell_type": "code",
   "execution_count": 49,
   "id": "87be413a",
   "metadata": {},
   "outputs": [],
   "source": [
    "folder_names=['jpg file','csv file','txt file']\n",
    "\n",
    "\n",
    "for loop in range (0,3):\n",
    "        if not os.path.exists(path+folder_names[loop]):\n",
    "                 #print(path+folder_names[loop])\n",
    "                os.makedirs(path+folder_names[loop])\n",
    "                \n",
    "for file in file_name:\n",
    "    if '.jpg' in file and not os.path.exists(path+'jpg file/'+file):\n",
    "         shutil.move(path+file,path+'jpg file/'+file)\n",
    "    elif '.csv' in file and not os.path.exists(path+'csv file/'+file):\n",
    "            shutil.move(path+file,path+'csv file/'+file)\n",
    "    elif '.txt' in file and not os.path.exists(path+'txt file/'+file):\n",
    "            shutil.move(path+file,path+'txt file/'+file)\n",
    "    else:\"Some files were not moved\""
   ]
  },
  {
   "cell_type": "code",
   "execution_count": 36,
   "id": "f3f1598c",
   "metadata": {},
   "outputs": [],
   "source": []
  },
  {
   "cell_type": "code",
   "execution_count": 47,
   "id": "7863dc33",
   "metadata": {},
   "outputs": [],
   "source": []
  },
  {
   "cell_type": "code",
   "execution_count": 51,
   "id": "ee9c3e1f",
   "metadata": {},
   "outputs": [],
   "source": [
    "\n",
    "\n",
    "               "
   ]
  }
 ],
 "metadata": {
  "kernelspec": {
   "display_name": "Python 3 (ipykernel)",
   "language": "python",
   "name": "python3"
  },
  "language_info": {
   "codemirror_mode": {
    "name": "ipython",
    "version": 3
   },
   "file_extension": ".py",
   "mimetype": "text/x-python",
   "name": "python",
   "nbconvert_exporter": "python",
   "pygments_lexer": "ipython3",
   "version": "3.11.5"
  }
 },
 "nbformat": 4,
 "nbformat_minor": 5
}
